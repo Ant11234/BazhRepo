{
 "cells": [
  {
   "cell_type": "markdown",
   "metadata": {},
   "source": [
    "---\n",
    "toc: true\n",
    "comments: true\n",
    "layout: post\n",
    "title: FRQ for POJO\n",
    "description:  Hacks for POJO Unit\n",
    "courses: { csa: {week: 27} }\n",
    "type: ccc\n",
    "authors: Anthony B\n",
    "---"
   ]
  },
  {
   "cell_type": "markdown",
   "metadata": {},
   "source": [
    "# Question 2: POJO (Unit 5)\n",
    "\n",
    "\n",
    "Situation: You are developing a system to manage a small personal library. Each book in the library is represented by a POJO called **Book** .\n",
    "\n",
    "(a) Explain the concept of a POJO in Java and provide an example scenario where using POJOs is beneficial in a programming task.\n",
    "\n",
    "(b) Code:\n",
    "\n",
    "You need to implement a class **Library** that maintains a collection of **Book** objects. The Book class has already been defined with the following private instance variables: **title** (a **String** representing the title of the book), **author** (a **String** representing the author of the book), and **yearPublished** (an **int** representing the year the book was published). The class has the corresponding getters for these variables.\n",
    "\n",
    "Write the POJO class **Book** including a no-argument constructor, a constructor with parameters to initialize all the fields, getters for all the instance variables, and a **toString()** method that returns a String in the format \"Title by Author (Year)\".\n",
    "\n",
    "Implement the Library class with the following methods:\n",
    "\n",
    "- **addBook(Book newBook)**: A method that takes a Book object and adds it to the library's collection.\n",
    "- **getOldestBook()**: This method returns the Book that was published the earliest in the collection.\n",
    "- **toString()**: This method returns a String with all books' details in the library, each separated by a newline character."
   ]
  },
  {
   "cell_type": "markdown",
   "metadata": {},
   "source": [
    "# Question 2: POJO FRQ Frading Rubric (Unit 5)\n",
    "\n",
    "(a) Explanation and Scenario:\n",
    "\n",
    "* 1 point: Provides a clear explanation of POJOs in Java and presents a relevant scenario.\n",
    "\n",
    "\n",
    "(b) Code Implementation:\n",
    "\n",
    "* POJO Class **Book**:\n",
    "    * No-argument Constructor: 0.5 points\n",
    "    * Parameterized Constructor: 0.5 points\n",
    "    * Getters: 1 point\n",
    "    * toString() Method: 0.5 points\n",
    "\n",
    "* Class Library Implementation:\n",
    "    * addBook Method: 1 point\n",
    "    * getOldestBook Method: 1 point\n",
    "    * toString() Method: 1 point"
   ]
  }
 ],
 "metadata": {
  "language_info": {
   "name": "python"
  },
  "orig_nbformat": 4
 },
 "nbformat": 4,
 "nbformat_minor": 2
}
