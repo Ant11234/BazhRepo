{
 "cells": [
  {
   "cell_type": "markdown",
   "metadata": {},
   "source": [
    "---\n",
    "toc: true\n",
    "comments: true\n",
    "layout: post\n",
    "title: Debugging Blog\n",
    "description: A blog showing my debugging, it is additionally in an issue at https://github.com/Ant11234/BazhRepo/issues/16\n",
    "type: ccc\n",
    "courses: { csa: {week: 26} }\n",
    "---"
   ]
  },
  {
   "cell_type": "markdown",
   "metadata": {},
   "source": [
    "- [X] Start backend using Debugging\n",
    "<img width=\"612\" alt=\"Screenshot 2024-03-07 at 11 58 32 PM\" src=\"https://github.com/Ant11234/BazhRepo/assets/40652645/38c0da1b-addb-4280-a2b1-0723457139e0\">\n",
    "<img width=\"675\" alt=\"Screenshot 2024-03-07 at 11 59 42 PM\" src=\"https://github.com/Ant11234/BazhRepo/assets/40652645/a2cf3d49-08c2-4840-b928-63d2b0c3c215\">\n",
    "\n",
    "- [X] Set break point at the beginning of endpoint code\n",
    "<img width=\"918\" alt=\"Screenshot 2024-03-08 at 12 01 21 AM\" src=\"https://github.com/Ant11234/BazhRepo/assets/40652645/b29033a8-70ac-48c5-8ea0-3d42f7d681ec\">\n",
    "<img width=\"977\" alt=\"Screenshot 2024-03-08 at 9 02 52 AM\" src=\"https://github.com/Ant11234/BazhRepo/assets/40652645/b1bbae0c-2838-4a1f-80e5-2621d244bda0\">\n",
    "\n",
    "- [X] Start in frontend with split screen loading source for an API fetch using get\n",
    "<img width=\"1470\" alt=\"Screenshot 2024-03-08 at 12 03 30 AM\" src=\"https://github.com/Ant11234/BazhRepo/assets/40652645/ffc09bc2-6771-441e-a671-912ddeb95c78\">\n",
    "\n",
    "\n",
    "- [X] Set break point on fetch, inside .then, inside .fetch\n",
    "<img width=\"535\" alt=\"Screenshot 2024-03-08 at 12 04 30 AM\" src=\"https://github.com/Ant11234/BazhRepo/assets/40652645/2ca657c7-6d1f-41f8-8daf-68119d241e9e\">\n",
    "<img width=\"861\" alt=\"Screenshot 2024-03-08 at 9 36 58 AM\" src=\"https://github.com/Ant11234/BazhRepo/assets/40652645/90b530f6-70e2-4c2e-beeb-4c059f0fefbe\">\n",
    "\n",
    "- [X] Run frontend, screen capture break at fetch while examining body\n",
    "https://github.com/Ant11234/BazhRepo/assets/40652645/784c7d35-f79d-4ad5-82a7-fe1e09139e4a\n",
    "\n",
    "- [X] Press play on frontend, observe stop inside of backend\n",
    "https://github.com/Ant11234/BazhRepo/assets/40652645/63c20a3d-5c9b-4b04-a5a6-b1fee7f939f0\n",
    "\n",
    "- [X] Press step over on backend until you have obtained data from database, screen capture HashMap or other data Object\n",
    "https://github.com/Ant11234/BazhRepo/assets/40652645/52c572ff-6300-486b-a926-9096c0f6757e\n",
    "\n",
    "\n",
    "- [X] Press play button to end backend debugging session\n",
    "- [X] Return to frontend debug session\n",
    "- [X] Step in until you see data, screen capture capturing break point and Data\n",
    "<img width=\"861\" alt=\"Screenshot 2024-03-08 at 12 44 27 AM\" src=\"https://github.com/Ant11234/BazhRepo/assets/40652645/c7ff719e-2924-4219-a1f2-4c8d97b2e6ee\">\n"
   ]
  }
 ],
 "metadata": {
  "language_info": {
   "name": "python"
  }
 },
 "nbformat": 4,
 "nbformat_minor": 2
}
