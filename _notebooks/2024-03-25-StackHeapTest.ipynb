{
 "cells": [
  {
   "cell_type": "code",
   "execution_count": null,
   "metadata": {
    "vscode": {
     "languageId": "java"
    }
   },
   "outputs": [],
   "source": [
    "package com.nighthawk.hacks;\n",
    "\n",
    "public class StackHeapTest {\n",
    "    public int n = 5; // primative datatype on the heap\n",
    "    public static void changeInt(int nValue, int nRef, StackHeapTest nRef) {\n",
    "        System.out.println(\"BEFORE:\");\n",
    "        System.out.println(\"nValue : \" + nValue);\n",
    "        System.out.println(\"nRefn : \" + nRefn);\n",
    "        System.out.println(\"nRef.n : \" + nRef.n);\n",
    "        System.out.println(\"HashCode : \" + System.identityHashCode(nRef));\n",
    "\n",
    "        nValue += 10;\n",
    "        nRefn += 10;\n",
    "        nRef.n += 10;\n",
    "\n",
    "        System.out.println(\"AFTER:\");\n",
    "        System.out.println(\"nValue : \" + nValue);\n",
    "        System.out.println(\"nRefn  : \" + nRefn);\n",
    "        System.out.println(\"nRef.n : \" + nRef.n);\n",
    "        System.out.println(\"HashCode : \" + System.identityHashCode(nRef));\n",
    "    }\n",
    "\n",
    "    public static void main(String[] args) {\n",
    "        int n = 5; // primitive datatype on the stack\n",
    "        StackHeapTest nRef = new StackHeapTest();\n",
    "\n",
    "        System.out.println(\"BEFORE:\");\n",
    "        System.out.println(\"n : \" + n);\n",
    "        System.out.println(\"nRef : \" + nRef);\n",
    "        System.out.println(\"nRef.n : \" + nRef.n);\n",
    "        System.out.println(\"HashCode n : \" + System.identityHashCode(n));\n",
    "        System.out.println(\"HashCode nRef.n : \" + System.identityHashCode(nRef.n));\n",
    "        System.out.println(\"HashCode nRef : \" + System.identityHashCode(nRef));\n",
    "\n",
    "        changeIntMethod(n, nRef.n, nRef);  // stack by value, heat by value, heat by reference\n",
    "\n",
    "        System.out.println(\"AFTER:\");\n",
    "        System.out.println(\"n : \" + n);\n",
    "        System.out.println(\"nRef : \" + nRef);\n",
    "        System.out.println(\"nRef.n : \" + nRef.n);\n",
    "        System.out.println(\"HashCode n : \" + System.identityHashCode(n));\n",
    "        System.out.println(\"HashCode nRef.n : \" + System.identityHashCode(nRef.n));\n",
    "        System.out.println(\"HashCode : \" + System.identityHashCode(nRef));\n",
    "    }\n",
    "\n",
    "}"
   ]
  }
 ],
 "metadata": {
  "language_info": {
   "name": "python"
  },
  "orig_nbformat": 4
 },
 "nbformat": 4,
 "nbformat_minor": 2
}
