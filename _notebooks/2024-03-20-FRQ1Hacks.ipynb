{
 "cells": [
  {
   "cell_type": "markdown",
   "metadata": {},
   "source": [
    "---\n",
    "toc: true\n",
    "comments: true\n",
    "layout: post\n",
    "title: Methods and Control Structures Hacks\n",
    "description:  Hacks for the wednesday workshop on 3/19/2024\n",
    "courses: { csa: {week: 27} }\n",
    "type: ccc\n",
    "authors: Anthony B\n",
    "---"
   ]
  },
  {
   "cell_type": "markdown",
   "metadata": {},
   "source": [
    "## Hacks for Question 3 : Arraylists (Unit 6)\n",
    "\n",
    "Situation: You are developing a student management system where you need to store and analyze the grades of students in a class.\n",
    "\n",
    "(a) Define an arrayList in Java. Explain its significance and usefulness in programming.\n",
    "\n",
    "- An arraylist is a part of the java.util package and works as a resizeable array that can be changed in size.\n"
   ]
  }
 ],
 "metadata": {
  "language_info": {
   "name": "python"
  },
  "orig_nbformat": 4
 },
 "nbformat": 4,
 "nbformat_minor": 2
}
