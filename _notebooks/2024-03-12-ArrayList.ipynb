{
 "cells": [
  {
   "cell_type": "markdown",
   "metadata": {},
   "source": [
    "---\n",
    "toc: true\n",
    "comments: true\n",
    "layout: post\n",
    "title: ArrayLists\n",
    "description:  Lesson on Array Lists\n",
    "courses: { csa: {week: 27} }\n",
    "type: ccc\n",
    "authors: Anthony B, Tay K\n",
    "---"
   ]
  },
  {
   "cell_type": "markdown",
   "metadata": {},
   "source": [
    "# ArrayLists\n",
    "\n",
    "- An **ArrayList** is a utility from the ``java.util`` package\n",
    "\n",
    "- To declare a variable, use the format `ArrayList<DataType> variableName = new ArrayList<DataType>(initial number of elements);`\n",
    "\n",
    "- Unlike arrays, ArrayLists are mutable (can be resized after initialization)\n",
    "\n",
    "- Functions as a more versatile array\n",
    "\n",
    "    - Does technically take more space than an array but for the purposes of CSA it shouldn't matter\n",
    "<br>\n",
    "<br>\n",
    "\n",
    "Difference between Array and Arraylist:\n",
    "\n",
    "\n",
    "| Array | Arraylist |\n",
    "| - | - |\n",
    "| Fixed length | Resizable length |\n",
    "| Fundamental Java Feature | Part of a Framework |\n",
    "| An object with no methods | A Class with many methods |\n",
    "| Not very flexible | Flexible |\n",
    "| Can store primitives | Cannot store primitives - stores objects instead |"
   ]
  },
  {
   "cell_type": "code",
   "execution_count": 4,
   "metadata": {
    "vscode": {
     "languageId": "java"
    }
   },
   "outputs": [
    {
     "name": "stdout",
     "output_type": "stream",
     "text": [
      "Array 1:[]\n",
      "Array 2:[]\n",
      "Array 1:[1, 2, 3, 4, 5]\n",
      "Array 2:[1, 2, 3, 4, 5]\n"
     ]
    }
   ],
   "source": [
    "import java.util.ArrayList;\n",
    "\n",
    "class ArrayListExample { \n",
    "    public static void main(String[] args) \n",
    "    { \n",
    "        // Size of ArrayList \n",
    "        int n = 5; \n",
    "  \n",
    "        // Declaring ArrayList with initial size n \n",
    "        ArrayList<Integer> arr1 = new ArrayList<Integer>(n); \n",
    "  \n",
    "        // Declaring ArrayList without initial size\n",
    "        ArrayList<Integer> arr2 = new ArrayList<Integer>(); \n",
    "  \n",
    "        // Printing ArrayList \n",
    "        System.out.println(\"Array 1:\" + arr1); \n",
    "        System.out.println(\"Array 2:\" + arr2); \n",
    "  \n",
    "        // Appending new elements to the end of the list \n",
    "        for (int i = 1; i <= n; i++) { \n",
    "            arr1.add(i); \n",
    "            arr2.add(i); \n",
    "        } \n",
    "  \n",
    "        // Printing ArrayList \n",
    "        System.out.println(\"Array 1:\" + arr1); \n",
    "        System.out.println(\"Array 2:\" + arr2); \n",
    "    } \n",
    "}\n",
    "ArrayListExample.main(null);"
   ]
  },
  {
   "cell_type": "markdown",
   "metadata": {},
   "source": [
    "## Arraylist Methods\n",
    "- add()\n",
    "    - Adding a value to the ArrayList\n",
    "    - Can be used to create an element at a specific index in the ArrayList - when this happens, everything at the positions of index and higher are moved to the right by 1 \n",
    "- get()\n",
    "    - Get the value of an index in the ArrayList\n",
    "- set()\n",
    "    - Change the value at an index in the ArrayList\n",
    "- remove()\n",
    "    - Delete the value at in index in the ArrayList\n",
    "- clear()\n",
    "    - Remove all values in an ArrayList\n",
    "- size()\n",
    "    - Get the length of the ArrayList"
   ]
  },
  {
   "cell_type": "code",
   "execution_count": 8,
   "metadata": {
    "vscode": {
     "languageId": "java"
    }
   },
   "outputs": [
    {
     "name": "stdout",
     "output_type": "stream",
     "text": [
      "0\n",
      "[1, 2, 3, 4, 5, 6, 7]\n",
      "2\n",
      "5\n",
      "[1, 200, 3, 4, 6, 7]\n"
     ]
    }
   ],
   "source": [
    "import java.util.ArrayList;\n",
    "\n",
    "public class Test {\n",
    "    public static void main(String[] args) {\n",
    "        ArrayList<Integer> test = new ArrayList<>();\n",
    "        System.out.println(test.size());\n",
    "        test.add(1); //index 0\n",
    "        test.add(2); // index 1\n",
    "        test.add(3); // index 2\n",
    "        test.add(4); // index 3\n",
    "        test.add(5); // index 4\n",
    "        test.add(6); // index 5\n",
    "        test.add(7); // index 6\n",
    "\n",
    "        System.out.println(test);\n",
    "\n",
    "        int i = test.set(1, 200); // prints what used to be at index 1\n",
    "        int x = test.remove(4); // prints what was removed\n",
    "\n",
    "        System.out.println(i);\n",
    "        System.out.println(x);\n",
    "        System.out.println(test);\n",
    "    }\n",
    "}\n",
    "Test.main(null);"
   ]
  },
  {
   "cell_type": "markdown",
   "metadata": {},
   "source": [
    "## Traversing ArrayLists\n",
    "\n",
    "- Deleting elements in the ArrayList while iterating over the ArrayList needs to be carefully done because the index changes as you delete elements\n",
    "- Using an enhanced for loop can result in the ConcurrentModificationException error\n",
    "    - Do not delete elements in an ArrayList while using an enhanced for loop"
   ]
  },
  {
   "cell_type": "code",
   "execution_count": 16,
   "metadata": {
    "vscode": {
     "languageId": "java"
    }
   },
   "outputs": [
    {
     "name": "stdout",
     "output_type": "stream",
     "text": [
      "1 7 9 13 3 7 9 2 \n",
      "1 7 9 13 3 7 9 2 "
     ]
    }
   ],
   "source": [
    "public static void main(String[] args)\n",
    "{\n",
    "    ArrayList<Integer> arr = new ArrayList<>();        \n",
    "    arr.add(1);\n",
    "    arr.add(7);\n",
    "    arr.add(9);\n",
    "    arr.add(13);\n",
    "    arr.add(3);\n",
    "    arr.add(7);\n",
    "    arr.add(9);\n",
    "    arr.add(2);\n",
    "\n",
    "    for (int i = 0; i < arr.size(); i++) //for loop, would work the same as with an array\n",
    "    {\n",
    "        System.out.print(arr.get(i) + \" \");\n",
    "    }\n",
    "    System.out.println();\n",
    "\n",
    "    for (Integer i : arr) //enhanced for loop without removing, same as an array\n",
    "    {\n",
    "        System.out.print(i + \" \");\n",
    "    }\n",
    "\n",
    "}\n",
    "main(null);"
   ]
  },
  {
   "cell_type": "markdown",
   "metadata": {},
   "source": [
    "## Sorting\n",
    "- There are 2 main sorting algorithms that Collegeboard focuses on, **selection sort** and **insertion sort**\n",
    "\n",
    "### Built-In Sorting\n",
    "- Uses the Collections package (import) with the sort() method\n",
    "- Can sort both alphabetically and numerically\n",
    "- Also has a built-in reverseSort() method\n",
    "\n",
    "#### Example of Built-In Sorting"
   ]
  },
  {
   "cell_type": "code",
   "execution_count": null,
   "metadata": {
    "vscode": {
     "languageId": "java"
    }
   },
   "outputs": [],
   "source": [
    "import java.util.ArrayList;\n",
    "import java.util.Collections;\n",
    "\n",
    "public class SelectionSort {\n",
    "    public static void main(String[] args) {\n",
    "        ArrayList<Integer> arrayList = new ArrayList<>();\n",
    "        arrayList.add(64);\n",
    "        arrayList.add(25);\n",
    "        arrayList.add(12);\n",
    "        arrayList.add(22);\n",
    "        arrayList.add(11);\n",
    "\n",
    "        Collections.sort(arrayList);\n",
    "\n",
    "        System.out.println(\"Sorted ArrayList: \" + arrayList);\n",
    "\n",
    "        ArrayList<Character> arrayListX = new ArrayList<>();\n",
    "        arrayListX.add('T');\n",
    "        arrayListX.add('G');\n",
    "        arrayListX.add('E');\n",
    "        arrayListX.add('B');\n",
    "        arrayListX.add('M');\n",
    "\n",
    "        Collections.sort(arrayListX);\n",
    "        System.out.println (\"Second Sorted ArrayList: \" +arrayListX);\n",
    "    }\n",
    "}\n",
    "SelectionSort.main(null);"
   ]
  },
  {
   "cell_type": "markdown",
   "metadata": {},
   "source": [
    "### Selection sort\n",
    "- Selection sort divides the ArrayList into two \"subarrays,\" the first is sorted and the second is unsorted.\n",
    "- Selection sort is easy to implement and is useful for sorting through small datasets.\n",
    "\n",
    "### Example of Selection Sort"
   ]
  },
  {
   "cell_type": "code",
   "execution_count": null,
   "metadata": {
    "vscode": {
     "languageId": "java"
    }
   },
   "outputs": [],
   "source": [
    "import java.util.ArrayList;\n",
    "\n",
    "public class SelectionSort {\n",
    "    public static void main(String[] args) {\n",
    "        ArrayList<Integer> arrayList = new ArrayList<>();\n",
    "        arrayList.add(64);\n",
    "        arrayList.add(25);\n",
    "        arrayList.add(12);\n",
    "        arrayList.add(22);\n",
    "        arrayList.add(11);\n",
    "\n",
    "        selectionSort(arrayList);\n",
    "\n",
    "        System.out.println(\"Sorted ArrayList: \" + arrayList);\n",
    "    }\n",
    "\n",
    "    public static void selectionSort(ArrayList<Integer> arr) {\n",
    "        int n = arr.size();\n",
    "\n",
    "        for (int i = 0; i < n - 1; i++) {\n",
    "            int minIndex = i;\n",
    "\n",
    "            for (int j = i + 1; j < n; j++) {\n",
    "                if (arr.get(j) < arr.get(minIndex)) {\n",
    "                    minIndex = j;\n",
    "                }\n",
    "            }\n",
    "\n",
    "            // Swap the found minimum element with the element at index i\n",
    "            int temp = arr.get(i);\n",
    "            arr.set(i, arr.get(minIndex));\n",
    "            arr.set(minIndex, temp);\n",
    "        }\n",
    "    }\n",
    "}\n",
    "SelectionSort.main(null);"
   ]
  },
  {
   "cell_type": "markdown",
   "metadata": {},
   "source": [
    "### Insertion Sort\n",
    "- In insertion sort, we assume that the first element is already sorted\n",
    "- The second element is then taken and is either inserted before the first element or kept in place to make the first 2 elements sorted\n",
    "- Insertion sort is adaptive as it does not need to perform as many comparisons and swaps as selection sort. If you expect the data to be partially ordered, insertion sort is the better option.\n",
    "\n",
    "#### Example of Insertion Sort"
   ]
  },
  {
   "cell_type": "code",
   "execution_count": null,
   "metadata": {
    "vscode": {
     "languageId": "java"
    }
   },
   "outputs": [],
   "source": [
    "import java.util.ArrayList;\n",
    "\n",
    "public class InsertionSort {\n",
    "    public static void insertionSort(ArrayList<Integer> arr) {\n",
    "        int n = arr.size();\n",
    "        for (int i = 1; i < n; i++) {\n",
    "            int key = arr.get(i);\n",
    "            int j = i - 1;\n",
    "\n",
    "            // Move elements of arr[0..i-1] that are greater than key\n",
    "            // to one position ahead of their current position\n",
    "            while (j >= 0 && arr.get(j) > key) {\n",
    "                arr.set(j + 1, arr.get(j));\n",
    "                j = j - 1;\n",
    "            }\n",
    "            arr.set(j + 1, key);\n",
    "        }\n",
    "    }\n",
    "\n",
    "    public static void main(String[] args) {\n",
    "        ArrayList<Integer> arrayList = new ArrayList<>();\n",
    "        arrayList.add(12);\n",
    "        arrayList.add(11);\n",
    "        arrayList.add(13);\n",
    "        arrayList.add(5);\n",
    "        arrayList.add(6);\n",
    "\n",
    "        System.out.println(\"Original ArrayList: \" + arrayList);\n",
    "\n",
    "        insertionSort(arrayList);\n",
    "\n",
    "        System.out.println(\"Sorted ArrayList: \" + arrayList);\n",
    "    }\n",
    "}\n",
    "InsertionSort.main(null);"
   ]
  },
  {
   "cell_type": "markdown",
   "metadata": {},
   "source": [
    "# Hacks\n",
    "\n",
    "- Write a Java program that creates an ArrayList of integers. Create methods for adding, removing, setting, getting, etc numbers and also sort the list in acending order."
   ]
  }
 ],
 "metadata": {
  "kernelspec": {
   "display_name": "Java",
   "language": "java",
   "name": "java"
  },
  "language_info": {
   "codemirror_mode": "java",
   "file_extension": ".jshell",
   "mimetype": "text/x-java-source",
   "name": "Java",
   "pygments_lexer": "java",
   "version": "18.0.2-ea+9-Ubuntu-222.04"
  }
 },
 "nbformat": 4,
 "nbformat_minor": 2
}
