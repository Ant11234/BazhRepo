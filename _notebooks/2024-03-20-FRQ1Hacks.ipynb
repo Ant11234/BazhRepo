{
 "cells": [
  {
   "cell_type": "markdown",
   "metadata": {},
   "source": [
    "---\n",
    "toc: true\n",
    "comments: true\n",
    "layout: post\n",
    "title: Methods and Control Structures Hacks\n",
    "description:  Hacks for the wednesday workshop on 3/19/2024\n",
    "courses: { csa: {week: 27} }\n",
    "type: ccc\n",
    "authors: Anthony B\n",
    "---"
   ]
  },
  {
   "cell_type": "markdown",
   "metadata": {},
   "source": [
    "## Hacks for Question 3 : Arraylists (Unit 6)\n",
    "\n",
    "Situation: You are developing a student management system where you need to store and analyze the grades of students in a class.\n",
    "\n",
    "(a) Define an arrayList in Java. Explain its significance and usefulness in programming.\n",
    "\n",
    "- An arraylist is a part of the java.util package and works as a resizeable array that can be changed in size.\n",
    "\n",
    "(b) Code:\n",
    "\n",
    "You need to implement a method `calculateAverageGrade` that takes an arrayList `grades` of integers representing student grades and returns the average of all the elements in the arrayList. Write the method signature and the method implementation. Include comments to explain your code.\n",
    "\n"
   ]
  },
  {
   "cell_type": "code",
   "execution_count": null,
   "metadata": {
    "vscode": {
     "languageId": "java"
    }
   },
   "outputs": [],
   "source": [
    "import java.util.ArrayList;\n",
    "\n",
    "public class StudentManagementSystem {\n",
    "    public static double calculateAverageGrade(ArrayList<Integer> grades) {\n",
    "        if (grades == null || grades.isEmpty()) {\n",
    "            // Return 0.0 if the list is null or empty to avoid division by zero\n",
    "            return 0.0;\n",
    "        }\n",
    "        \n",
    "        double sum = 0.0;\n",
    "        for (int grade : grades) {\n",
    "            sum += grade; // Sum up all the grades\n",
    "        }\n",
    "        // Calculate and return the average grade\n",
    "        return sum / grades.size();\n",
    "    }\n",
    "}\n"
   ]
  },
  {
   "cell_type": "markdown",
   "metadata": {},
   "source": [
    "## Hacks for Question 4 : Math Class (Unit 2)\n",
    "\n",
    "Situation: You are developing a scientific calculator application where users need to perform various mathematical operations.\n",
    "\n",
    "(a) Discuss the purpose and utility of the Math class in Java programming. Provide examples of at least three methods provided by the Math class and explain their usage.\n",
    "\n",
    "- The Math class in Java is part of the java.lang package, which means it's available by default without needing to import it. This class provides a wide range of mathematical functions and constants that are useful for performing mathematical operations. These operations include basic arithmetic, exponentiation, logarithms, and trigonometry, among others. The utility of the Math class lies in its ability to perform complex mathematical computations accurately and efficiently without the programmer having to implement these functions from scratch.\n",
    "\n",
    "Examples of methods provided by the Math class include:\n",
    "\n",
    "- Math.abs(double a): Returns the absolute value of a given double value. This is useful for ensuring non-negative results from calculations.\n",
    "- Math.pow(double a, double b): Returns the value of the first parameter raised to the power of the second parameter. This method is crucial for exponential calculations.\n",
    "- Math.sqrt(double a): Returns the square root of a given double value. This method is often used in geometry, physics, and other fields requiring square root calculations.\n",
    "\n",
    "(b) Code:\n",
    "\n",
    "You need to implement a method `calculateSquareRoot` that takes a `double` number as input and returns its square root using the Math class. Write the method signature and the method implementation. Include comments to explain your code.\n"
   ]
  },
  {
   "cell_type": "code",
   "execution_count": null,
   "metadata": {
    "vscode": {
     "languageId": "java"
    }
   },
   "outputs": [],
   "source": [
    "public class ScientificCalculator {\n",
    "    public static double calculateSquareRoot(double number) {\n",
    "        // Use Math.sqrt to calculate and return the square root of the input number\n",
    "        return Math.sqrt(number);\n",
    "    }\n",
    "}\n"
   ]
  }
 ],
 "metadata": {
  "language_info": {
   "name": "python"
  },
  "orig_nbformat": 4
 },
 "nbformat": 4,
 "nbformat_minor": 2
}
